{
 "cells": [
  {
   "cell_type": "markdown",
   "id": "ab683272",
   "metadata": {},
   "source": [
    "# Problem 1: Write a function that takes in an integer, minutes, and converts it into seconds"
   ]
  },
  {
   "cell_type": "code",
   "execution_count": 4,
   "id": "c390e2c1",
   "metadata": {},
   "outputs": [
    {
     "name": "stdout",
     "output_type": "stream",
     "text": [
      "Enter minutes for conversion5\n",
      "300\n"
     ]
    }
   ],
   "source": [
    "def minutes_to_seconds(minutes):\n",
    "    seconds = minutes * 60\n",
    "    return seconds\n",
    "\n",
    "\n",
    "\n",
    "minutes = int(input('Enter minutes for conversion'))\n",
    "seconds = minutes_to_seconds(minutes)\n",
    "print(seconds) \n"
   ]
  },
  {
   "cell_type": "markdown",
   "id": "38414392",
   "metadata": {},
   "source": [
    "# Problem 2: Write a function that takes two numbers as arguments and returns their sum."
   ]
  },
  {
   "cell_type": "code",
   "execution_count": 6,
   "id": "55f39db2",
   "metadata": {},
   "outputs": [
    {
     "name": "stdout",
     "output_type": "stream",
     "text": [
      "Enter 1st number: 25\n",
      "Enter 2nd number: 26\n",
      "51\n"
     ]
    }
   ],
   "source": [
    "def sum_of_numbers(x,y):\n",
    "    add = x + y\n",
    "    return add\n",
    "\n",
    "x = int(input('Enter 1st number: '))\n",
    "y = int(input('Enter 2nd number: '))\n",
    "\n",
    "add = sum_of_numbers(x,y)\n",
    "print(add)\n",
    "    "
   ]
  },
  {
   "cell_type": "markdown",
   "id": "1ad2d676",
   "metadata": {},
   "source": [
    "# Problem 3: Create a function that takes a string and returns the number (count) of vowels contained within it."
   ]
  },
  {
   "cell_type": "code",
   "execution_count": 8,
   "id": "874b6afd",
   "metadata": {},
   "outputs": [
    {
     "name": "stdout",
     "output_type": "stream",
     "text": [
      "Number of vowels: 3\n"
     ]
    }
   ],
   "source": [
    "def count_vowels(string):\n",
    "    vowels = ['a','e','i','o','u']\n",
    "    count = 0\n",
    "    for char in string:\n",
    "        if char.lower() in vowels:\n",
    "            count += 1\n",
    "    return count\n",
    "\n",
    "string = \"Hello, World!\"\n",
    "vowel_count = count_vowels(string)\n",
    "print(\"Number of vowels:\", vowel_count)\n",
    "\n",
    "    "
   ]
  },
  {
   "cell_type": "markdown",
   "id": "f43e9b00",
   "metadata": {},
   "source": [
    "# Bonus Points (Optional) Create a function that takes a number as an argument and returns “Fizz”, “Buzz” or “FizzBuzz”.\n",
    "\n",
    "If the number is a multiple of 3 the output should be “Fizz”. If the number given is a multiple of 5, the output should be “Buzz”. If the number given is a multiple of both 3 and 5, the output should be “FizzBuzz”. If the number is not a multiple of either 3 or 5, the number should be output on its own as shown in the examples below. The output should always be a string even if it is not a multiple of 3 or 5"
   ]
  },
  {
   "cell_type": "code",
   "execution_count": 11,
   "id": "9edaa9f1",
   "metadata": {},
   "outputs": [
    {
     "name": "stdout",
     "output_type": "stream",
     "text": [
      "1\n",
      "2\n",
      "Fizz\n",
      "4\n",
      "Buzz\n",
      "Fizz\n",
      "7\n",
      "8\n",
      "Fizz\n",
      "Buzz\n",
      "11\n",
      "Fizz\n",
      "13\n",
      "14\n",
      "FizzBuzz\n"
     ]
    }
   ],
   "source": [
    "def fizz_buzz(number):\n",
    "    if number % 3 == 0 and number % 5 == 0:\n",
    "        return \"FizzBuzz\"\n",
    "    elif number % 3 == 0:\n",
    "        return \"Fizz\"\n",
    "    elif number % 5 ==0:\n",
    "        return \"Buzz\"\n",
    "    else:\n",
    "        return str(number)\n",
    " \n",
    "for number in range(1,16):\n",
    "    result = fizz_buzz(number)\n",
    "    print(result)\n",
    "    "
   ]
  },
  {
   "cell_type": "code",
   "execution_count": null,
   "id": "957e4755",
   "metadata": {},
   "outputs": [],
   "source": []
  }
 ],
 "metadata": {
  "kernelspec": {
   "display_name": "Python 3 (ipykernel)",
   "language": "python",
   "name": "python3"
  },
  "language_info": {
   "codemirror_mode": {
    "name": "ipython",
    "version": 3
   },
   "file_extension": ".py",
   "mimetype": "text/x-python",
   "name": "python",
   "nbconvert_exporter": "python",
   "pygments_lexer": "ipython3",
   "version": "3.10.9"
  }
 },
 "nbformat": 4,
 "nbformat_minor": 5
}
